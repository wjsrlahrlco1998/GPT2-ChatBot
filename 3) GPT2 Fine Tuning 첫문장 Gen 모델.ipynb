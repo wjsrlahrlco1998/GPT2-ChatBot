{
 "cells": [
  {
   "cell_type": "markdown",
   "id": "b1e47ceb",
   "metadata": {},
   "source": [
    "## 1. 패키지 로드"
   ]
  },
  {
   "cell_type": "code",
   "execution_count": null,
   "id": "f6a42513",
   "metadata": {},
   "outputs": [],
   "source": [
    "import tensorflow as tf\n",
    "from transformers import AutoTokenizer\n",
    "from transformers import TFGPT2LMHeadModel\n",
    "\n",
    "import pandas as pd\n",
    "\n",
    "from tqdm import tqdm_notebook\n",
    "import tqdm"
   ]
  },
  {
   "cell_type": "markdown",
   "id": "db72a980",
   "metadata": {},
   "source": [
    "## 2. KoGPT2 로드"
   ]
  },
  {
   "cell_type": "code",
   "execution_count": null,
   "id": "1875c874",
   "metadata": {},
   "outputs": [],
   "source": [
    "tokenizer = AutoTokenizer.from_pretrained('skt/kogpt2-base-v2', bos_token='</s>', eos_token='</s>', pad_token='<pad>')\n",
    "model = TFGPT2LMHeadModel.from_pretrained('skt/kogpt2-base-v2', from_pt=True)"
   ]
  },
  {
   "cell_type": "markdown",
   "id": "9b723381",
   "metadata": {},
   "source": [
    "## 3. 학습 데이터 로드"
   ]
  },
  {
   "cell_type": "code",
   "execution_count": null,
   "id": "10e583bb",
   "metadata": {},
   "outputs": [],
   "source": [
    "### 학습 데이터 로드"
   ]
  },
  {
   "cell_type": "markdown",
   "id": "db8841bc",
   "metadata": {},
   "source": [
    "## 4. 토큰화"
   ]
  },
  {
   "cell_type": "code",
   "execution_count": null,
   "id": "a6107fac",
   "metadata": {},
   "outputs": [],
   "source": [
    "# params setting\n",
    "batch_size = 32"
   ]
  },
  {
   "cell_type": "code",
   "execution_count": null,
   "id": "1f6bf7d0",
   "metadata": {},
   "outputs": [],
   "source": [
    "# 데이터 로드 및 토큰화 함수\n",
    "def get_emo_data():\n",
    "    for question, answer in zip(train_data.감정.to_list(), train_data.문장.to_list()):\n",
    "        bos_token = [tokenizer.bos_token_id]\n",
    "        eos_token = [tokenizer.eos_token_id]\n",
    "        sent = tokenizer.encode('<usr>' + question + '<sys>' + answer) \n",
    "        yield bos_token + sent + eos_token"
   ]
  },
  {
   "cell_type": "code",
   "execution_count": null,
   "id": "5a9e3463",
   "metadata": {},
   "outputs": [],
   "source": [
    "# 모델이 필요로하는 DataSet 생성\n",
    "dataset = tf.data.Dataset.from_generator(get_emo_data, output_types=tf.int32)"
   ]
  },
  {
   "cell_type": "code",
   "execution_count": null,
   "id": "5215d130",
   "metadata": {},
   "outputs": [],
   "source": [
    "# 입력데이터의 크기가 가변 일때 같은 크기로 읽을 수 있게 변환\n",
    "dataset = dataset.padded_batch(batch_size=batch_size, padded_shapes=(None,), padding_values=tokenizer.pad_token_id)"
   ]
  },
  {
   "cell_type": "markdown",
   "id": "7066597f",
   "metadata": {},
   "source": [
    "## 5. 모델 학습"
   ]
  },
  {
   "cell_type": "code",
   "execution_count": null,
   "id": "82112698",
   "metadata": {},
   "outputs": [],
   "source": [
    "# 1, 옵티마이저 정의\n",
    "adam = tf.keras.optimizers.Adam(learning_rate=3e-5, epsilon=1e-08)\n",
    "\n",
    "# 2. Step 정의\n",
    "steps = len(train_data) // batch_size + 1\n",
    "\n",
    "# 3. 에포치 설정(학습횟수)\n",
    "EPOCHS = 3"
   ]
  },
  {
   "cell_type": "code",
   "execution_count": null,
   "id": "e6ebdc72",
   "metadata": {},
   "outputs": [],
   "source": [
    "# 4. 모델 학습\n",
    "for epoch in range(EPOCHS):\n",
    "    epoch_loss = 0\n",
    "\n",
    "    for batch in tqdm.tqdm_notebook(dataset, total=steps):\n",
    "        with tf.GradientTape() as tape:\n",
    "            result = model(batch, labels=batch)\n",
    "            loss = result[0]\n",
    "            batch_loss = tf.reduce_mean(loss)\n",
    "\n",
    "        grads = tape.gradient(batch_loss, model.trainable_variables)\n",
    "        adam.apply_gradients(zip(grads, model.trainable_variables))\n",
    "        epoch_loss += batch_loss / steps\n",
    "\n",
    "    print('[Epoch: {:>4}] cost = {:>.9}'.format(epoch + 1, epoch_loss))"
   ]
  },
  {
   "cell_type": "markdown",
   "id": "97559931",
   "metadata": {},
   "source": [
    "## 6. 전체 모델 저장"
   ]
  },
  {
   "cell_type": "code",
   "execution_count": null,
   "id": "d08b5f8d",
   "metadata": {},
   "outputs": [],
   "source": [
    "torch.save(model, './model/Gen_sent_GPT2_model.pt') # or pth 확장자 사용"
   ]
  },
  {
   "cell_type": "raw",
   "id": "6470f8e8",
   "metadata": {},
   "source": [
    "@ 모델 불러오기\n",
    "\n",
    "model = torch.load('./model/Gen_sent_GPT2_model.pt')\n",
    "model.eval() # 배치 정규화를 평가 모드로 설정 -> 올바른 추론 결과를 얻기 위한 필수 코드"
   ]
  }
 ],
 "metadata": {
  "kernelspec": {
   "display_name": "Python 3 (ipykernel)",
   "language": "python",
   "name": "python3"
  },
  "language_info": {
   "codemirror_mode": {
    "name": "ipython",
    "version": 3
   },
   "file_extension": ".py",
   "mimetype": "text/x-python",
   "name": "python",
   "nbconvert_exporter": "python",
   "pygments_lexer": "ipython3",
   "version": "3.9.12"
  }
 },
 "nbformat": 4,
 "nbformat_minor": 5
}
