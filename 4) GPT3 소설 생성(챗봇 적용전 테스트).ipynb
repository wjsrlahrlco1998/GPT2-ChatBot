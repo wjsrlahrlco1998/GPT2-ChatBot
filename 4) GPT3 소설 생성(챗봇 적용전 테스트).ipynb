{
 "cells": [
  {
   "cell_type": "markdown",
   "id": "58011503",
   "metadata": {},
   "source": [
    "## 1. 패키지 로드"
   ]
  },
  {
   "cell_type": "code",
   "execution_count": null,
   "id": "7d9d3d91",
   "metadata": {},
   "outputs": [],
   "source": [
    "'''GPT-3'''\n",
    "import torch\n",
    "from transformers import AutoTokenizer, AutoModelForCausalLM \n",
    "\n",
    "'''GPT-2'''\n",
    "import tensorflow as tf\n",
    "from transformers import AutoTokenizer\n",
    "from transformers import TFGPT2LMHeadModel\n",
    "\n",
    "import pandas as pd\n",
    "\n",
    "from tqdm import tqdm_notebook\n",
    "import tqdm\n",
    "\n",
    "'''KoBERT'''\n",
    "import torch\n",
    "from torch import nn\n",
    "import torch.nn.functional as F\n",
    "import torch.optim as optim\n",
    "from torch.utils.data import Dataset, DataLoader\n",
    "import gluonnlp as nlp\n",
    "import numpy as np\n",
    "from tqdm import tqdm, tqdm_notebook\n",
    "\n",
    "#kobert\n",
    "from kobert.utils import get_tokenizer\n",
    "from kobert.pytorch_kobert import get_pytorch_kobert_model\n",
    "\n",
    "#transformers\n",
    "from transformers import AdamW\n",
    "from transformers.optimization import get_cosine_schedule_with_warmup\n",
    "\n",
    "import pandas as pd"
   ]
  },
  {
   "cell_type": "markdown",
   "id": "fee482d7",
   "metadata": {},
   "source": [
    "## 2. 파인튜닝된 KoBERT 로드 "
   ]
  },
  {
   "cell_type": "code",
   "execution_count": null,
   "id": "193b809a",
   "metadata": {},
   "outputs": [],
   "source": [
    "### KoBERT 토크나이저 로드"
   ]
  },
  {
   "cell_type": "code",
   "execution_count": null,
   "id": "8be34996",
   "metadata": {},
   "outputs": [],
   "source": [
    "### 모델 로드 코드"
   ]
  },
  {
   "cell_type": "markdown",
   "id": "127c5f9c",
   "metadata": {},
   "source": [
    "## 3. 파인튜닝된 GPT2 (제목생성) 로드"
   ]
  },
  {
   "cell_type": "code",
   "execution_count": null,
   "id": "9182af71",
   "metadata": {},
   "outputs": [],
   "source": [
    "# GPT2 토크나이저 로드\n",
    "gpt2_tokenizer = AutoTokenizer.from_pretrained('skt/kogpt2-base-v2', bos_token='</s>', eos_token='</s>', pad_token='<pad>')"
   ]
  },
  {
   "cell_type": "code",
   "execution_count": null,
   "id": "d4123590",
   "metadata": {},
   "outputs": [],
   "source": [
    "# gpt2_title_model 로드\n",
    "gpt2_title_model = torch.load('./model/Gen_title_GPT2_model.pt')\n",
    "gpt2_title_model.eval()"
   ]
  },
  {
   "cell_type": "markdown",
   "id": "321cf880",
   "metadata": {},
   "source": [
    "## 4. 파인튜닝된 GPT2 (첫문장생성) 로드"
   ]
  },
  {
   "cell_type": "code",
   "execution_count": null,
   "id": "8f5471f8",
   "metadata": {},
   "outputs": [],
   "source": [
    "gpt2_sent_model = torch.load('./model/Gen_title_GPT2_model.pt')\n",
    "gpt2_sent_model.eval()"
   ]
  },
  {
   "cell_type": "code",
   "execution_count": null,
   "id": "d59dd32a",
   "metadata": {},
   "outputs": [],
   "source": []
  }
 ],
 "metadata": {
  "kernelspec": {
   "display_name": "Python 3 (ipykernel)",
   "language": "python",
   "name": "python3"
  },
  "language_info": {
   "codemirror_mode": {
    "name": "ipython",
    "version": 3
   },
   "file_extension": ".py",
   "mimetype": "text/x-python",
   "name": "python",
   "nbconvert_exporter": "python",
   "pygments_lexer": "ipython3",
   "version": "3.9.12"
  }
 },
 "nbformat": 4,
 "nbformat_minor": 5
}
